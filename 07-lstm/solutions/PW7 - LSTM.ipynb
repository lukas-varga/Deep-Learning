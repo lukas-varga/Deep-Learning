{
 "cells": [
  {
   "cell_type": "markdown",
   "metadata": {
    "id": "YUz0f39Z5YHE"
   },
   "source": [
    "# PW7 - Sequence classification using recurrent neural networks\n",
    "Objective : Classification of opinions based on film comments"
   ]
  },
  {
   "cell_type": "markdown",
   "metadata": {
    "id": "4ayl_dOH5YHF"
   },
   "source": [
    "# Imports"
   ]
  },
  {
   "cell_type": "code",
   "execution_count": 2,
   "metadata": {
    "executionInfo": {
     "elapsed": 3230,
     "status": "ok",
     "timestamp": 1620123729575,
     "user": {
      "displayName": "Vincent Barra",
      "photoUrl": "https://lh3.googleusercontent.com/a-/AOh14GjvBKqsHAt-nVr22nq-swGVY8ilMH6_0eiRzJxRMw=s64",
      "userId": "03796775931529965958"
     },
     "user_tz": -120
    },
    "id": "f7fRMZTB5YHG"
   },
   "outputs": [],
   "source": [
    "import matplotlib as mpl\n",
    "import matplotlib.pyplot as plt\n",
    "import numpy as np\n",
    "import pandas as pd\n",
    "import sklearn\n",
    "import tensorflow as tf\n",
    "from tensorflow import keras \n",
    "from tensorflow.keras.datasets import imdb\n",
    "from tensorflow.keras.layers import Embedding, LSTM, Dense\n"
   ]
  },
  {
   "cell_type": "markdown",
   "metadata": {
    "id": "qMHVjMoh5YHH"
   },
   "source": [
    "# Data\n",
    "IMDB Database, giving positive/negative opinions on films. For each film, several couples (review/opinion (0/1)). \n",
    "For this study, we only consider the `num_words` most current words."
   ]
  },
  {
   "cell_type": "code",
   "execution_count": 39,
   "metadata": {
    "colab": {
     "base_uri": "https://localhost:8080/"
    },
    "executionInfo": {
     "elapsed": 7462,
     "status": "ok",
     "timestamp": 1620123739913,
     "user": {
      "displayName": "Vincent Barra",
      "photoUrl": "https://lh3.googleusercontent.com/a-/AOh14GjvBKqsHAt-nVr22nq-swGVY8ilMH6_0eiRzJxRMw=s64",
      "userId": "03796775931529965958"
     },
     "user_tz": -120
    },
    "id": "9cayoiTg5YHH",
    "outputId": "2b46a0f6-c49c-460d-bddb-e727e57463d9",
    "tags": []
   },
   "outputs": [],
   "source": [
    "num_words = 10000\n",
    "# Database\n",
    "(X_train, y_train), (X_test, y_test) = imdb.load_data(num_words=num_words)\n",
    "\n",
    "#correspondence word -> index\n",
    "word_index = imdb.get_word_index()"
   ]
  },
  {
   "cell_type": "markdown",
   "metadata": {
    "id": "RsXrIRxn5YHI"
   },
   "source": [
    "index->word correspondence, adding some special words"
   ]
  },
  {
   "cell_type": "code",
   "execution_count": 4,
   "metadata": {
    "executionInfo": {
     "elapsed": 992,
     "status": "ok",
     "timestamp": 1620123745145,
     "user": {
      "displayName": "Vincent Barra",
      "photoUrl": "https://lh3.googleusercontent.com/a-/AOh14GjvBKqsHAt-nVr22nq-swGVY8ilMH6_0eiRzJxRMw=s64",
      "userId": "03796775931529965958"
     },
     "user_tz": -120
    },
    "id": "n-hf7L6V5YHI"
   },
   "outputs": [],
   "source": [
    "index = {word_id + 3: word for word, word_id in word_index.items()}\n",
    "index[0] = \"<pad>\" # padding\n",
    "index[1] = \"<sos>\" # start of sequence\n",
    "index[2] = \"<oov>\" # out of vocabulary\n",
    "index[3] = \"<unk>\" # unknown"
   ]
  },
  {
   "cell_type": "markdown",
   "metadata": {
    "id": "lz3uYN4p5YHI"
   },
   "source": [
    "Read review"
   ]
  },
  {
   "cell_type": "code",
   "execution_count": 5,
   "metadata": {
    "colab": {
     "base_uri": "https://localhost:8080/"
    },
    "executionInfo": {
     "elapsed": 834,
     "status": "ok",
     "timestamp": 1620123747462,
     "user": {
      "displayName": "Vincent Barra",
      "photoUrl": "https://lh3.googleusercontent.com/a-/AOh14GjvBKqsHAt-nVr22nq-swGVY8ilMH6_0eiRzJxRMw=s64",
      "userId": "03796775931529965958"
     },
     "user_tz": -120
    },
    "id": "u76qUmL35YHJ",
    "outputId": "b819d81f-415e-4d2a-b864-7208205b9e69",
    "tags": []
   },
   "outputs": [
    {
     "name": "stdout",
     "output_type": "stream",
     "text": [
      "*** An example of review : ***\n",
      "  <sos> french horror cinema has seen something of a revival over the last couple of years with great films such as inside and <oov> romance <oov> on to the scene <oov> <oov> the revival just slightly but stands head and shoulders over most modern horror titles and is surely one of the best french horror films ever made <oov> was obviously shot on a low budget but this is made up for in far more ways than one by the originality of the film and this in turn is <oov> by the excellent writing and acting that ensure the film is a winner the plot focuses on two main ideas prison and black magic the central character is a man named <oov> sent to prison for fraud he is put in a cell with three others the quietly insane <oov> body building <oov> marcus and his retarded boyfriend daisy after a short while in the cell together they stumble upon a hiding place in the wall that contains an old <oov> after <oov> part of it they soon realise its magical powers and realise they may be able to use it to break through the prison walls br br black magic is a very interesting topic and i'm actually quite surprised that there aren't more films based on it as there's so much scope for things to do with it it's fair to say that <oov> makes the best of it's <oov> as despite it's <oov> the film never actually feels restrained and manages to flow well throughout director eric <oov> provides a great atmosphere for the film the fact that most of it takes place inside the central prison cell <oov> that the film feels very claustrophobic and this immensely benefits the central idea of the prisoners wanting to use magic to break out of the cell it's very easy to get behind them it's often said that the unknown is the thing that really <oov> people and this film proves that as the director <oov> that we can never really be sure of exactly what is round the corner and this helps to ensure that <oov> actually does manage to be quite frightening the film is memorable for a lot of reasons outside the central plot the characters are all very interesting in their own way and the fact that the book itself almost takes on its own character is very well done anyone worried that the film won't deliver by the end won't be disappointed either as the ending both makes sense and manages to be quite horrifying overall <oov> is a truly great horror film and one of the best of the decade highly recommended viewing\n",
      "*** Corresponding opinion [positive (1)/negative (0)] :  0  ***\n"
     ]
    }
   ],
   "source": [
    "def decode_review(word_ids):\n",
    "    return \" \".join([index.get(word_id, \"<err>\") for word_id in word_ids])\n",
    "\n",
    "print(\"*** An example of review : ***\\n \",decode_review(X_train[10]))\n",
    "print(\"*** Corresponding opinion [positive (1)/negative (0)] : \",y_train[1],\" ***\")"
   ]
  },
  {
   "cell_type": "markdown",
   "metadata": {
    "id": "ukgksGM75YHJ"
   },
   "source": [
    "# Models"
   ]
  },
  {
   "cell_type": "markdown",
   "metadata": {
    "id": "l34H-IMo5YHJ"
   },
   "source": [
    "## Baseline\n",
    "Baseline model (provided), in order to compare the results to the recurrent neural network model"
   ]
  },
  {
   "cell_type": "code",
   "execution_count": 97,
   "metadata": {
    "executionInfo": {
     "elapsed": 3364,
     "status": "ok",
     "timestamp": 1620123760135,
     "user": {
      "displayName": "Vincent Barra",
      "photoUrl": "https://lh3.googleusercontent.com/a-/AOh14GjvBKqsHAt-nVr22nq-swGVY8ilMH6_0eiRzJxRMw=s64",
      "userId": "03796775931529965958"
     },
     "user_tz": -120
    },
    "id": "f_n5a-SL5YHK"
   },
   "outputs": [],
   "source": [
    "X_train_text = [decode_review(words_ids) for words_ids in X_train]\n",
    "X_test_text =[decode_review(words_ids) for words_ids in X_test]"
   ]
  },
  {
   "cell_type": "code",
   "execution_count": 98,
   "metadata": {
    "colab": {
     "base_uri": "https://localhost:8080/"
    },
    "executionInfo": {
     "elapsed": 5810,
     "status": "ok",
     "timestamp": 1620123766719,
     "user": {
      "displayName": "Vincent Barra",
      "photoUrl": "https://lh3.googleusercontent.com/a-/AOh14GjvBKqsHAt-nVr22nq-swGVY8ilMH6_0eiRzJxRMw=s64",
      "userId": "03796775931529965958"
     },
     "user_tz": -120
    },
    "id": "iqLQ72A85YHK",
    "outputId": "a5d014a8-8650-48e1-af64-9e80ba3a2f12"
   },
   "outputs": [
    {
     "data": {
      "text/plain": [
       "Pipeline(steps=[('vect', CountVectorizer()), ('tfidf', TfidfTransformer()),\n",
       "                ('clf', SGDClassifier(max_iter=50))])"
      ]
     },
     "execution_count": 98,
     "metadata": {},
     "output_type": "execute_result"
    }
   ],
   "source": [
    "from sklearn.feature_extraction.text import CountVectorizer, TfidfTransformer\n",
    "from sklearn.pipeline import Pipeline\n",
    "from sklearn.linear_model import SGDClassifier\n",
    "processing = Pipeline([('vect', CountVectorizer()),('tfidf', TfidfTransformer()),('clf', SGDClassifier(max_iter=50)),])\n",
    "processing.fit(X_train_text, y_train)"
   ]
  },
  {
   "cell_type": "code",
   "execution_count": 99,
   "metadata": {
    "colab": {
     "base_uri": "https://localhost:8080/"
    },
    "executionInfo": {
     "elapsed": 5842,
     "status": "ok",
     "timestamp": 1620123786193,
     "user": {
      "displayName": "Vincent Barra",
      "photoUrl": "https://lh3.googleusercontent.com/a-/AOh14GjvBKqsHAt-nVr22nq-swGVY8ilMH6_0eiRzJxRMw=s64",
      "userId": "03796775931529965958"
     },
     "user_tz": -120
    },
    "id": "S6qGB7xc5YHK",
    "outputId": "397608ad-b151-4161-c9dc-c393c444dbbc",
    "tags": []
   },
   "outputs": [
    {
     "name": "stdout",
     "output_type": "stream",
     "text": [
      "Baseline accuracy on the test set: we have to do better than this !!:  0.88492\n",
      "Model testing  (ground truth: 0):  [0]\n",
      "Model testing (ground truth: 1):  [1]\n"
     ]
    }
   ],
   "source": [
    "print(\"Baseline accuracy on the test set: we have to do better than this !!: \",processing.score(X_test_text, y_test))\n",
    "print(\"Model testing  (ground truth: 0): \", processing.predict([\"Awful !\"]))\n",
    "print(\"Model testing (ground truth: 1): \", processing.predict([\"Fantastic !\"]))"
   ]
  },
  {
   "cell_type": "markdown",
   "metadata": {
    "id": "7wiSqVUe5YHL"
   },
   "source": [
    "## LSTM Model"
   ]
  },
  {
   "cell_type": "markdown",
   "metadata": {
    "id": "JfpX__sZ5YHL"
   },
   "source": [
    "First transform X_train (and X_test) into  2D array of shape (X_train.shape[0], maxlen) ((X_test.shape[0], maxlen)). X_train[i]  (X_test[i]) is a sequence of samples \n",
    "(a set of word indexes). There are X_train.shape[0]  (X_test.shape[0]) sequences, all with different lengths (the reviews)\n",
    "So the function pads the sequences to the same dimension with padding values = 0 (default) : see [documentation](https://www.tensorflow.org/api_docs/python/tf/keras/preprocessing/sequence/pad_sequences)\n",
    "\n"
   ]
  },
  {
   "cell_type": "code",
   "execution_count": 100,
   "metadata": {
    "executionInfo": {
     "elapsed": 2290,
     "status": "ok",
     "timestamp": 1620123798714,
     "user": {
      "displayName": "Vincent Barra",
      "photoUrl": "https://lh3.googleusercontent.com/a-/AOh14GjvBKqsHAt-nVr22nq-swGVY8ilMH6_0eiRzJxRMw=s64",
      "userId": "03796775931529965958"
     },
     "user_tz": -120
    },
    "id": "CciNlPT35YHL"
   },
   "outputs": [],
   "source": [
    "maxlen = 500\n",
    "X_train_trim = tf.keras.preprocessing.sequence.pad_sequences(X_train, maxlen=maxlen)\n",
    "X_test_trim = tf.keras.preprocessing.sequence.pad_sequences(X_test, maxlen=maxlen)"
   ]
  },
  {
   "cell_type": "markdown",
   "metadata": {
    "id": "OzN9eEhz5YHM"
   },
   "source": [
    "Model : sequential model composed of \n",
    "- An [embedding](https://keras.io/api/layers/core_layers/embedding/) layer : the size of the vocabulary (input_dim) is given by the number of words. The size of the embedding space is the output_dim (see summary)\n",
    "- An [LSTM](https://keras.io/api/layers/recurrent_layers/lstm/) with a given number of units (see summary)\n",
    "- A [dense](https://keras.io/api/layers/core_layers/dense/) layer for the prediction"
   ]
  },
  {
   "cell_type": "code",
   "execution_count": 7,
   "metadata": {
    "colab": {
     "base_uri": "https://localhost:8080/"
    },
    "executionInfo": {
     "elapsed": 6881,
     "status": "ok",
     "timestamp": 1620123810413,
     "user": {
      "displayName": "Vincent Barra",
      "photoUrl": "https://lh3.googleusercontent.com/a-/AOh14GjvBKqsHAt-nVr22nq-swGVY8ilMH6_0eiRzJxRMw=s64",
      "userId": "03796775931529965958"
     },
     "user_tz": -120
    },
    "id": "xTwtP3UV5YHM",
    "outputId": "0c7d3bd5-eb90-49c3-dedf-0b81d75c0f66",
    "tags": []
   },
   "outputs": [
    {
     "name": "stdout",
     "output_type": "stream",
     "text": [
      "Model: \"sequential\"\n",
      "_________________________________________________________________\n",
      "Layer (type)                 Output Shape              Param #   \n",
      "=================================================================\n",
      "embedding (Embedding)        (None, None, 10)          100000    \n",
      "_________________________________________________________________\n",
      "lstm (LSTM)                  (None, 32)                5504      \n",
      "_________________________________________________________________\n",
      "dense (Dense)                (None, 1)                 33        \n",
      "=================================================================\n",
      "Total params: 105,537\n",
      "Trainable params: 105,537\n",
      "Non-trainable params: 0\n",
      "_________________________________________________________________\n"
     ]
    }
   ],
   "source": [
    "model = tf.keras.models.Sequential()\n",
    "model.add(Embedding(input_dim=num_words, output_dim=10))\n",
    "model.add(LSTM(32))\n",
    "model.add(Dense(1, activation=\"sigmoid\"))\n",
    "model.summary()"
   ]
  },
  {
   "cell_type": "markdown",
   "metadata": {
    "id": "UyMiVjp25YHM"
   },
   "source": [
    "Compile and train the model. Use `binary_crossentropy` as a loss and `RMSProp`as optimizer. Track the accuracy"
   ]
  },
  {
   "cell_type": "code",
   "execution_count": 101,
   "metadata": {
    "colab": {
     "base_uri": "https://localhost:8080/"
    },
    "executionInfo": {
     "elapsed": 469000,
     "status": "ok",
     "timestamp": 1620124315892,
     "user": {
      "displayName": "Vincent Barra",
      "photoUrl": "https://lh3.googleusercontent.com/a-/AOh14GjvBKqsHAt-nVr22nq-swGVY8ilMH6_0eiRzJxRMw=s64",
      "userId": "03796775931529965958"
     },
     "user_tz": -120
    },
    "id": "DQmiwh9o5YHN",
    "outputId": "12547b41-5534-42e5-e2c3-4422f8ccdd15"
   },
   "outputs": [
    {
     "name": "stdout",
     "output_type": "stream",
     "text": [
      "Epoch 1/20\n",
      "196/196 [==============================] - 30s 152ms/step - loss: 0.2545 - accuracy: 0.9030\n",
      "Epoch 2/20\n",
      "196/196 [==============================] - 26s 132ms/step - loss: 0.2156 - accuracy: 0.9182\n",
      "Epoch 3/20\n",
      "196/196 [==============================] - 26s 132ms/step - loss: 0.1905 - accuracy: 0.9306\n",
      "Epoch 4/20\n",
      "196/196 [==============================] - 27s 139ms/step - loss: 0.1723 - accuracy: 0.9368\n",
      "Epoch 5/20\n",
      "196/196 [==============================] - 27s 136ms/step - loss: 0.1572 - accuracy: 0.9442\n",
      "Epoch 6/20\n",
      "196/196 [==============================] - 26s 134ms/step - loss: 0.1485 - accuracy: 0.9475\n",
      "Epoch 7/20\n",
      "196/196 [==============================] - 28s 141ms/step - loss: 0.1381 - accuracy: 0.9516\n",
      "Epoch 8/20\n",
      "196/196 [==============================] - 27s 136ms/step - loss: 0.1274 - accuracy: 0.9560\n",
      "Epoch 9/20\n",
      "196/196 [==============================] - 28s 141ms/step - loss: 0.1218 - accuracy: 0.9575\n",
      "Epoch 10/20\n",
      "196/196 [==============================] - 27s 137ms/step - loss: 0.1154 - accuracy: 0.9594\n",
      "Epoch 11/20\n",
      "196/196 [==============================] - 26s 135ms/step - loss: 0.1070 - accuracy: 0.9636\n",
      "Epoch 12/20\n",
      "196/196 [==============================] - 27s 136ms/step - loss: 0.1020 - accuracy: 0.9656\n",
      "Epoch 13/20\n",
      "196/196 [==============================] - 28s 142ms/step - loss: 0.0964 - accuracy: 0.9672\n",
      "Epoch 14/20\n",
      "196/196 [==============================] - 27s 138ms/step - loss: 0.0937 - accuracy: 0.9673\n",
      "Epoch 15/20\n",
      "196/196 [==============================] - 28s 142ms/step - loss: 0.0877 - accuracy: 0.9708\n",
      "Epoch 16/20\n",
      "196/196 [==============================] - 28s 142ms/step - loss: 0.0846 - accuracy: 0.9730\n",
      "Epoch 17/20\n",
      "196/196 [==============================] - 28s 141ms/step - loss: 0.0815 - accuracy: 0.9728\n",
      "Epoch 18/20\n",
      "196/196 [==============================] - 27s 139ms/step - loss: 0.0785 - accuracy: 0.9740\n",
      "Epoch 19/20\n",
      "196/196 [==============================] - 27s 139ms/step - loss: 0.0734 - accuracy: 0.9767\n",
      "Epoch 20/20\n",
      "196/196 [==============================] - 27s 138ms/step - loss: 0.0730 - accuracy: 0.9762\n"
     ]
    }
   ],
   "source": [
    "batch_size = 128\n",
    "num_epochs = 20\n",
    "\n",
    "model.compile(loss=\"binary_crossentropy\", optimizer=\"rmsprop\", metrics=[\"accuracy\"])\n",
    "history = model.fit(X_train_trim, y_train,epochs=num_epochs, batch_size=batch_size)"
   ]
  },
  {
   "cell_type": "code",
   "execution_count": 102,
   "metadata": {
    "colab": {
     "base_uri": "https://localhost:8080/",
     "height": 296
    },
    "executionInfo": {
     "elapsed": 1260,
     "status": "ok",
     "timestamp": 1620124319733,
     "user": {
      "displayName": "Vincent Barra",
      "photoUrl": "https://lh3.googleusercontent.com/a-/AOh14GjvBKqsHAt-nVr22nq-swGVY8ilMH6_0eiRzJxRMw=s64",
      "userId": "03796775931529965958"
     },
     "user_tz": -120
    },
    "id": "sZy8ojFC5YHN",
    "outputId": "b2d9101b-ed96-4988-ca80-6931410fee20"
   },
   "outputs": [
    {
     "data": {
      "image/png": "[encoded data removed]",
      "text/plain": [
       "<Figure size 432x288 with 1 Axes>"
      ]
     },
     "metadata": {
      "needs_background": "light"
     },
     "output_type": "display_data"
    }
   ],
   "source": [
    "# if `history`is the output of your fit.\n",
    "plt.plot(history.history['accuracy'])\n",
    "plt.title('accuracy')\n",
    "plt.ylabel('accuracy')\n",
    "plt.xlabel('epoch')\n",
    "plt.tight_layout()"
   ]
  },
  {
   "cell_type": "code",
   "execution_count": 92,
   "metadata": {},
   "outputs": [],
   "source": [
    "def encode_review(toto):\n",
    "    l = []\n",
    "    l = [word_index.get(word) for word in toto]\n",
    "    l = [l[i :(i+1)] for i in range(len(l))]\n",
    "    l = tf.keras.preprocessing.sequence.pad_sequences(l, maxlen=maxlen)\n",
    "    return l"
   ]
  },
  {
   "cell_type": "code",
   "execution_count": 96,
   "metadata": {
    "colab": {
     "base_uri": "https://localhost:8080/"
    },
    "executionInfo": {
     "elapsed": 24457,
     "status": "ok",
     "timestamp": 1620124346911,
     "user": {
      "displayName": "Vincent Barra",
      "photoUrl": "https://lh3.googleusercontent.com/a-/AOh14GjvBKqsHAt-nVr22nq-swGVY8ilMH6_0eiRzJxRMw=s64",
      "userId": "03796775931529965958"
     },
     "user_tz": -120
    },
    "id": "AMOPjFZW5YHN",
    "outputId": "f52822d7-cc22-4403-c6d1-6fdab7e1991e",
    "tags": []
   },
   "outputs": [
    {
     "name": "stdout",
     "output_type": "stream",
     "text": [
      "782/782 [==============================] - 15s 19ms/step - loss: 0.3095 - accuracy: 0.8786\n",
      "Loss / Accuracy on the test set:  [0.30945396423339844, 0.8786399960517883]\n",
      "Model testing  (ground truth: 0):  [[0]]\n",
      "Model testing  (ground truth: 1):  [[1]]\n"
     ]
    }
   ],
   "source": [
    "print(\"Loss / Accuracy on the test set: \",model.evaluate(X_test_trim, y_test)) # to compare with the baseline\n",
    "negative = [\"awful\"]\n",
    "negative = encode_review(negative)\n",
    "print(\"Model testing  (ground truth: 0): \", model.predict_classes(negative))\n",
    "\n",
    "positive = [\"fantastic\"]\n",
    "positive = encode_review(positive)\n",
    "print(\"Model testing  (ground truth: 1): \", model.predict_classes(positive))\n"
   ]
  },
  {
   "cell_type": "markdown",
   "metadata": {
    "id": "pbeJ3KBQ5YHO"
   },
   "source": [
    "# Some ways to test/improve the method\n",
    "\n",
    "- Change the size of the vocabulary\n",
    "- change the size of the padding\n",
    "- Change the dimension of the embedding space\n",
    "- Change the number of units of the LSTM\n",
    "- Change the model (The [Keras website](https://keras.io/examples/nlp/text_classification_from_scratch/) proposes another model on the same database, you can be inspired from it)\n",
    "- \n",
    "\n",
    "... and analyze how it improves (or not) the model\n",
    "\n",
    "\n"
   ]
  },
  {
   "cell_type": "code",
   "execution_count": null,
   "metadata": {},
   "outputs": [],
   "source": []
  }
 ],
 "metadata": {
  "accelerator": "GPU",
  "colab": {
   "collapsed_sections": [],
   "name": "PW7 - LSTM.ipynb",
   "provenance": []
  },
  "kernelspec": {
   "display_name": "Python 3",
   "language": "python",
   "name": "python3"
  },
  "language_info": {
   "codemirror_mode": {
    "name": "ipython",
    "version": 3
   },
   "file_extension": ".py",
   "mimetype": "text/x-python",
   "name": "python",
   "nbconvert_exporter": "python",
   "pygments_lexer": "ipython3",
   "version": "3.8.2"
  }
 },
 "nbformat": 4,
 "nbformat_minor": 4
}
