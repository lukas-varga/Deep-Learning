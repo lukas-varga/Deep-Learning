{
 "cells": [
  {
   "cell_type": "markdown",
   "metadata": {
    "id": "wFJES500mf6z"
   },
   "source": [
    "# PW11 - Deep Q-Network\n",
    "Objective: write the DQN algorithm and apply the corresponding policy to an [environment](https://gym.openai.com/envs/#classic_control) provided by Gym. In the following, we choose the CartPole environment, but feel free to change"
   ]
  },
  {
   "cell_type": "code",
   "execution_count": null,
   "metadata": {
    "id": "pU5InXP8mf62"
   },
   "outputs": [],
   "source": [
    "import gym\n",
    "import numpy as np\n",
    "import matplotlib.pyplot as plt\n",
    "from collections import deque\n",
    "import tensorflow as tf\n",
    "from tensorflow.keras.models import Sequential,load_model\n",
    "from tensorflow.keras.layers import Dense\n",
    "from tensorflow.keras.optimizers import Adam\n",
    "import random"
   ]
  },
  {
   "cell_type": "markdown",
   "metadata": {
    "id": "351RpUjd9lgH"
   },
   "source": [
    "To render gym environment into colab"
   ]
  },
  {
   "cell_type": "code",
   "execution_count": null,
   "metadata": {
    "colab": {
     "base_uri": "https://localhost:8080/"
    },
    "executionInfo": {
     "elapsed": 13810,
     "status": "ok",
     "timestamp": 1622464353484,
     "user": {
      "displayName": "Vincent Barra",
      "photoUrl": "https://lh3.googleusercontent.com/a-/AOh14GjvBKqsHAt-nVr22nq-swGVY8ilMH6_0eiRzJxRMw=s64",
      "userId": "03796775931529965958"
     },
     "user_tz": -120
    },
    "id": "98CGQxIK9cfj",
    "outputId": "c9a23adc-c02d-4c80-d8d0-5a50887cde7d"
   },
   "outputs": [
    {
     "name": "stdout",
     "output_type": "stream",
     "text": [
      "Collecting xvfbwrapper\n",
      "  Downloading https://files.pythonhosted.org/packages/57/b6/4920eabda9b49630dea58745e79f9919aba6408d460afe758bf6e9b21a04/xvfbwrapper-0.2.9.tar.gz\n",
      "Building wheels for collected packages: xvfbwrapper\n",
      "  Building wheel for xvfbwrapper (setup.py) ... \u001b[?25l\u001b[?25hdone\n",
      "  Created wheel for xvfbwrapper: filename=xvfbwrapper-0.2.9-cp37-none-any.whl size=5009 sha256=4ebee8102dd013defe3e84fb0a1a83b5c8063807d0bfe0ed67dc0254070e57b4\n",
      "  Stored in directory: /root/.cache/pip/wheels/10/f2/61/cacfaf84b352c223761ea8d19616e3b5ac5c27364da72863f0\n",
      "Successfully built xvfbwrapper\n",
      "Installing collected packages: xvfbwrapper\n",
      "Successfully installed xvfbwrapper-0.2.9\n"
     ]
    }
   ],
   "source": [
    "!apt-get install -y xvfb python-opengl > /dev/null 2>&1\n",
    "!pip3 install xvfbwrapper\n",
    "!pip3 install gym pyvirtualdisplay > /dev/null 2>&1"
   ]
  },
  {
   "cell_type": "code",
   "execution_count": null,
   "metadata": {
    "colab": {
     "base_uri": "https://localhost:8080/"
    },
    "executionInfo": {
     "elapsed": 195,
     "status": "ok",
     "timestamp": 1622466607236,
     "user": {
      "displayName": "Vincent Barra",
      "photoUrl": "https://lh3.googleusercontent.com/a-/AOh14GjvBKqsHAt-nVr22nq-swGVY8ilMH6_0eiRzJxRMw=s64",
      "userId": "03796775931529965958"
     },
     "user_tz": -120
    },
    "id": "FZFtgvSvAGip",
    "outputId": "78f9926b-b57c-499a-a1d4-5e9bb4d2a8ae"
   },
   "outputs": [
    {
     "data": {
      "text/plain": [
       "[50]"
      ]
     },
     "execution_count": 2,
     "metadata": {
      "tags": []
     },
     "output_type": "execute_result"
    }
   ],
   "source": [
    "from pyvirtualdisplay import Display\n",
    "from IPython import display\n",
    "\n",
    "d = Display()\n",
    "d.start() \n",
    "envCartPole = gym.make('CartPole-v1')\n",
    "envCartPole.seed(50) "
   ]
  },
  {
   "cell_type": "markdown",
   "metadata": {
    "id": "Fzg5Km9hiHoe"
   },
   "source": [
    "## Description of the problem\n",
    "\n",
    "A pole is attached by an joint to a cart, moving along a frictionless track. \n",
    "\n",
    "The continuous state space $S$ is  a 4-D dimensional space, composed of:\n",
    "- an $x$ coordinate for location, in [-4.8,4.8], \n",
    "- the velocity of the cart in $\\mathbb{R}$, \n",
    "- the angle of the pole in [-24,24],\n",
    "- the velocity at the tip of the pole in $\\mathbb{R}$. \n",
    "\n",
    "The action space is of size 2: applying a force of +1 or -1 to the cart (the actions)\n",
    "\n",
    "The pendulum starts upright, and the goal is to prevent it from falling over. A reward of +1 is provided for every timestep that the pole remains upright. The episode ends when the pole is more than 15 degrees from vertical, or the cart moves more than 2.4 units from the center. \n",
    "\n",
    "We assume that we have achieved our goal if the average of the total reward is greater than 195 for 5 consecutive episodes\n"
   ]
  },
  {
   "cell_type": "markdown",
   "metadata": {
    "id": "nzroD-qji3mJ"
   },
   "source": [
    "## How does the system behave with a random agent ?"
   ]
  },
  {
   "cell_type": "code",
   "execution_count": null,
   "metadata": {
    "colab": {
     "base_uri": "https://localhost:8080/",
     "height": 477
    },
    "executionInfo": {
     "elapsed": 5962,
     "status": "ok",
     "timestamp": 1622466616178,
     "user": {
      "displayName": "Vincent Barra",
      "photoUrl": "https://lh3.googleusercontent.com/a-/AOh14GjvBKqsHAt-nVr22nq-swGVY8ilMH6_0eiRzJxRMw=s64",
      "userId": "03796775931529965958"
     },
     "user_tz": -120
    },
    "id": "wizo4byri29A",
    "outputId": "3bd94fd3-8264-4822-f591-bf3401f3dbd9"
   },
   "outputs": [
    {
     "data": {
      "image/png": "[encoded data removed]",
      "text/plain": [
       "<Figure size 432x288 with 1 Axes>"
      ]
     },
     "metadata": {
      "tags": []
     },
     "output_type": "display_data"
    },
    {
     "data": {
      "image/png": "[encoded data removed]",
      "text/plain": [
       "<Figure size 432x288 with 1 Axes>"
      ]
     },
     "metadata": {
      "needs_background": "light",
      "tags": []
     },
     "output_type": "display_data"
    }
   ],
   "source": [
    "o = envCartPole.reset()\n",
    "img = plt.imshow(envCartPole.render('rgb_array'))\n",
    "for t in range(100):\n",
    "  display.clear_output(wait=True)\n",
    "  img.set_data(envCartPole.render('rgb_array'))\n",
    "  plt.axis('off')\n",
    "  display.display(plt.gcf())  \n",
    "  a = envCartPole.action_space.sample()\n",
    "  o,r,done,info = envCartPole.step(a)\n",
    "\n",
    "  if done:\n",
    "    o = envCartPole.reset()\n",
    "envCartPole.close()"
   ]
  },
  {
   "cell_type": "code",
   "execution_count": null,
   "metadata": {
    "id": "mrJ4nYbxmf65"
   },
   "outputs": [],
   "source": [
    "#Global Variables\n",
    "nb_episodes = 200\n",
    "nb_end_training = 0\n",
    "limit_time = 250"
   ]
  },
  {
   "cell_type": "code",
   "execution_count": null,
   "metadata": {
    "id": "sayvZWdSmf66"
   },
   "outputs": [],
   "source": [
    "#Hyper Parameters\n",
    "discount_rate = 0.95\n",
    "batch_size = 24 # batch size for episode replay"
   ]
  },
  {
   "cell_type": "code",
   "execution_count": null,
   "metadata": {
    "id": "mTDJ0jLolhVP"
   },
   "outputs": [],
   "source": [
    "#Success parameters\n",
    "reward_threshold = 195\n",
    "consecutive_wins = 5"
   ]
  },
  {
   "cell_type": "markdown",
   "metadata": {
    "id": "Gw7x-qVzmf66"
   },
   "source": [
    "## DQN Class  \n",
    "Creates a DQN object with the following methods:\n",
    "\n",
    "- init: initilization of the model parameters\n",
    "- build_model : build the neural network approximating $Q$\n",
    "- action: generates the action.  using either exploration ($\\epsilon$-greedy) or exploitation (generation using the network)\n",
    "- test_action: generate the action in the test phase (only exploitation)\n",
    "- store: save the observables \n",
    "- experience_replay: use experience replay strategy to predict the optimal action with the network using a batch os samples in the memory  "
   ]
  },
  {
   "cell_type": "code",
   "execution_count": null,
   "metadata": {
    "id": "G85xzOAkmf66"
   },
   "outputs": [],
   "source": [
    "class DQN():\n",
    "    def __init__(self, states, actions, gamma, epsilon=1,epsilon_min=0.001, epsilon_decay=0.999):\n",
    "        self.nb_states = states\n",
    "        self.nb_actions = actions\n",
    "        self.memory = deque([], maxlen=2500) # double-ended queue to manage the memory for the experience replay\n",
    "        self.gamma = gamma\n",
    "        #Explore/Exploit\n",
    "        self.epsilon = epsilon\n",
    "        self.epsilon_min = epsilon_min\n",
    "        self.epsilon_decay = epsilon_decay\n",
    "\n",
    "        # Q approximation\n",
    "        self.model = self.build_model()\n",
    "        self.loss = []\n",
    "        \n",
    "    def build_model(self):\n",
    "        model = Sequential() \n",
    "        model.add(Dense(24, input_dim=self.nb_states, activation='relu'))     \n",
    "        model.add(Dense(24, activation='relu')) \n",
    "        model.add(Dense(self.nb_actions, activation='linear'))\n",
    "        model.compile(loss='mean_squared_error', optimizer=Adam(learning_rate=0.001)) \n",
    "        return model\n",
    "\n",
    "    def action(self, state):\n",
    "        if np.random.rand() <= self.epsilon:\n",
    "            return random.randrange(self.nb_actions) #Explore\n",
    "        action_vals = self.model.predict(state) #Exploit: Use the NN to predict the correct action from this state\n",
    "        return np.argmax(action_vals[0])\n",
    "\n",
    "    def test_action(self, state): #Exploit\n",
    "        action_vals = self.model.predict(state)\n",
    "        return np.argmax(action_vals[0])\n",
    "\n",
    "    def store(self, state, action, reward, nstate, done):\n",
    "        #Store the experience in memory\n",
    "        self.memory.append( (state, action, reward, nstate, done) )\n",
    "\n",
    "    def experience_replay(self, batch_size):\n",
    "        #Execute the experience replay\n",
    "        minibatch = random.sample( self.memory, batch_size ) #Randomly sample from memory\n",
    "\n",
    "        #Convert to numpy for speed by vectorization\n",
    "        x = []\n",
    "        y = []\n",
    "        np_array = np.array(minibatch)\n",
    "        st = np.zeros((0,self.nb_states)) #States\n",
    "        nst = np.zeros( (0,self.nb_states) )#Next States\n",
    "        for i in range(len(np_array)): #Creating the state and next state np arrays\n",
    "            st = np.append( st, np_array[i,0], axis=0)\n",
    "            nst = np.append( nst, np_array[i,3], axis=0)\n",
    "        st_predict = self.model.predict(st) #Here is the speedup! I can predict on the ENTIRE batch\n",
    "        nst_predict = self.model.predict(nst)\n",
    "        index = 0\n",
    "        for state, action, reward, nstate, done in minibatch:\n",
    "            x.append(state)\n",
    "            #Predict from state\n",
    "            nst_action_predict_model = nst_predict[index]\n",
    "            if done == True: #Terminal: Just assign reward much like {* (not done) - QB[state][action]}\n",
    "                target = reward\n",
    "            else:   #Non terminal\n",
    "                target = reward + self.gamma * np.amax(nst_action_predict_model)\n",
    "            target_f = st_predict[index]\n",
    "            target_f[action] = target\n",
    "            y.append(target_f)\n",
    "            index += 1\n",
    "        #Reshape for Keras Fit\n",
    "        x_reshape = np.array(x).reshape(batch_size,self.nb_states)\n",
    "        y_reshape = np.array(y)\n",
    "        epoch_count = 1 #Epochs is the number or iterations\n",
    "        hist = self.model.fit(x_reshape, y_reshape, epochs=epoch_count, verbose=0)\n",
    "        #Graph Losses\n",
    "        for i in range(epoch_count):\n",
    "            self.loss.append( hist.history['loss'][i] )\n",
    "        #Decay Epsilon\n",
    "        if self.epsilon > self.epsilon_min:\n",
    "            self.epsilon *= self.epsilon_decay"
   ]
  },
  {
   "cell_type": "code",
   "execution_count": null,
   "metadata": {
    "id": "3Xqhdo5Lmf67"
   },
   "outputs": [],
   "source": [
    "#Create the agent\n",
    "nS = envCartPole.observation_space.shape[0] #This is only 4\n",
    "nA = envCartPole.action_space.n #Actions\n",
    "dqn = DQN(nS, nA, discount_rate, 1, 0.001, 0.995)\n"
   ]
  },
  {
   "cell_type": "markdown",
   "metadata": {
    "id": "CPKuMNErQuWt"
   },
   "source": [
    "In reinforcement learning, training occurs alongside the agent's acting in the environment; an episode refers to a sequence of actions that ends in some terminal state, such as the pole falling down or the cart crashing. The agent will need to remember all of its observations and actions, such that once an episode ends, it can learn to \"reinforce\" the good actions and punish the undesirable actions via training"
   ]
  },
  {
   "cell_type": "code",
   "execution_count": null,
   "metadata": {
    "colab": {
     "base_uri": "https://localhost:8080/"
    },
    "executionInfo": {
     "elapsed": 925363,
     "status": "ok",
     "timestamp": 1622465291204,
     "user": {
      "displayName": "Vincent Barra",
      "photoUrl": "https://lh3.googleusercontent.com/a-/AOh14GjvBKqsHAt-nVr22nq-swGVY8ilMH6_0eiRzJxRMw=s64",
      "userId": "03796775931529965958"
     },
     "user_tz": -120
    },
    "id": "uWXUjIkRmf67",
    "outputId": "c1ac70dc-27df-40f8-d3ee-782fa5b012ab"
   },
   "outputs": [
    {
     "name": "stdout",
     "output_type": "stream",
     "text": [
      "episode: 0/200, score: 16.0, e: 1\n"
     ]
    },
    {
     "name": "stderr",
     "output_type": "stream",
     "text": [
      "/usr/local/lib/python3.7/dist-packages/ipykernel_launcher.py:45: VisibleDeprecationWarning: Creating an ndarray from ragged nested sequences (which is a list-or-tuple of lists-or-tuples-or ndarrays with different lengths or shapes) is deprecated. If you meant to do this, you must specify 'dtype=object' when creating the ndarray\n"
     ]
    },
    {
     "name": "stdout",
     "output_type": "stream",
     "text": [
      "episode: 1/200, score: 11.0, e: 0.990025\n",
      "episode: 2/200, score: 35.0, e: 0.8348931673187264\n",
      "episode: 3/200, score: 12.0, e: 0.7901049725470279\n",
      "episode: 4/200, score: 10.0, e: 0.7552531090661897\n",
      "episode: 5/200, score: 10.0, e: 0.7219385759785162\n",
      "episode: 6/200, score: 24.0, e: 0.6433260027715241\n",
      "episode: 7/200, score: 11.0, e: 0.6118738784280476\n",
      "episode: 8/200, score: 12.0, e: 0.5790496471185967\n",
      "episode: 9/200, score: 9.0, e: 0.5562889678716474\n",
      "episode: 10/200, score: 13.0, e: 0.5238143793828016\n",
      "episode: 11/200, score: 13.0, e: 0.4932355662165453\n",
      "episode: 12/200, score: 11.0, e: 0.46912134373457726\n",
      "episode: 13/200, score: 9.0, e: 0.4506816115185697\n",
      "episode: 14/200, score: 8.0, e: 0.4351424010585501\n",
      "episode: 15/200, score: 21.0, e: 0.3936343764094253\n",
      "episode: 16/200, score: 9.0, e: 0.37816180712868996\n",
      "episode: 17/200, score: 9.0, e: 0.3632974174544486\n",
      "episode: 18/200, score: 10.0, e: 0.3472722151889232\n",
      "episode: 19/200, score: 14.0, e: 0.3253644408394192\n",
      "episode: 20/200, score: 10.0, e: 0.31101247816653554\n",
      "episode: 21/200, score: 10.0, e: 0.29729358661854943\n",
      "episode: 22/200, score: 11.0, e: 0.2827589419554058\n",
      "episode: 23/200, score: 15.0, e: 0.26359640222486147\n",
      "episode: 24/200, score: 13.0, e: 0.24820838415550486\n",
      "episode: 25/200, score: 27.0, e: 0.2178795886667409\n",
      "episode: 26/200, score: 12.0, e: 0.20619134658263935\n",
      "episode: 27/200, score: 10.0, e: 0.19709615934585656\n",
      "episode: 28/200, score: 10.0, e: 0.18840216465300522\n",
      "episode: 29/200, score: 10.0, e: 0.1800916657318127\n",
      "episode: 30/200, score: 11.0, e: 0.1712870076899825\n",
      "episode: 31/200, score: 8.0, e: 0.16538114245489302\n",
      "episode: 32/200, score: 10.0, e: 0.1580861105294992\n",
      "episode: 33/200, score: 10.0, e: 0.15111286553822956\n",
      "episode: 34/200, score: 10.0, e: 0.14444721332374086\n",
      "episode: 35/200, score: 10.0, e: 0.13807558583895513\n",
      "episode: 36/200, score: 9.0, e: 0.13264825480308728\n",
      "episode: 37/200, score: 12.0, e: 0.1255322834371622\n",
      "episode: 38/200, score: 9.0, e: 0.12059799144222175\n",
      "episode: 39/200, score: 11.0, e: 0.11470197137452155\n",
      "episode: 40/200, score: 20.0, e: 0.1042820154910064\n",
      "episode: 41/200, score: 17.0, e: 0.09624511776741324\n",
      "episode: 42/200, score: 9.0, e: 0.09246201511725258\n",
      "episode: 43/200, score: 17.0, e: 0.08533607153708872\n",
      "episode: 44/200, score: 18.0, e: 0.07836551983717477\n",
      "episode: 45/200, score: 16.0, e: 0.07268942442628039\n",
      "episode: 46/200, score: 16.0, e: 0.06742445445908266\n",
      "episode: 47/200, score: 11.0, e: 0.06412808167716157\n",
      "episode: 48/200, score: 10.0, e: 0.06129936495526111\n",
      "episode: 49/200, score: 13.0, e: 0.05772088009124167\n",
      "episode: 50/200, score: 14.0, e: 0.05407954064343768\n",
      "episode: 51/200, score: 12.0, e: 0.051178420962124486\n",
      "episode: 52/200, score: 17.0, e: 0.047234157581800176\n",
      "episode: 53/200, score: 15.0, e: 0.04403310436296763\n",
      "episode: 54/200, score: 15.0, e: 0.04104898613852031\n",
      "episode: 55/200, score: 13.0, e: 0.0386526615487428\n",
      "episode: 56/200, score: 11.0, e: 0.036762937968474095\n",
      "episode: 57/200, score: 11.0, e: 0.03496560272750046\n",
      "episode: 58/200, score: 12.0, e: 0.03308985827710748\n",
      "episode: 59/200, score: 16.0, e: 0.030693125720441184\n",
      "episode: 60/200, score: 18.0, e: 0.028186002814352063\n",
      "episode: 61/200, score: 14.0, e: 0.026407880170317945\n",
      "episode: 62/200, score: 17.0, e: 0.02437265452736848\n",
      "episode: 63/200, score: 17.0, e: 0.022494281437179946\n",
      "episode: 64/200, score: 15.0, e: 0.020969846670345987\n",
      "episode: 65/200, score: 15.0, e: 0.01954872266561937\n",
      "episode: 66/200, score: 23.0, e: 0.0175075817047932\n",
      "episode: 67/200, score: 24.0, e: 0.015601164601953134\n",
      "episode: 68/200, score: 28.0, e: 0.013626370684745774\n",
      "episode: 69/200, score: 49.0, e: 0.01071243191960775\n",
      "episode: 70/200, score: 39.0, e: 0.008854522446302441\n",
      "episode: 71/200, score: 28.0, e: 0.0077337178453084215\n",
      "episode: 72/200, score: 29.0, e: 0.006721010660167116\n",
      "episode: 73/200, score: 30.0, e: 0.005811709875073308\n",
      "episode: 74/200, score: 74.0, e: 0.004030777450394616\n",
      "episode: 75/200, score: 37.0, e: 0.003365268552316861\n",
      "episode: 76/200, score: 44.0, e: 0.002712765160259951\n",
      "episode: 77/200, score: 57.0, e: 0.0020488243214527692\n",
      "episode: 78/200, score: 96.0, e: 0.0012726160372174948\n",
      "episode: 79/200, score: 48.0, e: 0.001005500259148637\n",
      "episode: 80/200, score: 18.0, e: 0.0009954703940636294\n",
      "episode: 81/200, score: 28.0, e: 0.0009954703940636294\n",
      "episode: 82/200, score: 32.0, e: 0.0009954703940636294\n",
      "episode: 83/200, score: 23.0, e: 0.0009954703940636294\n",
      "episode: 84/200, score: 34.0, e: 0.0009954703940636294\n",
      "episode: 85/200, score: 58.0, e: 0.0009954703940636294\n",
      "episode: 86/200, score: 52.0, e: 0.0009954703940636294\n",
      "episode: 87/200, score: 18.0, e: 0.0009954703940636294\n",
      "episode: 88/200, score: 17.0, e: 0.0009954703940636294\n",
      "episode: 89/200, score: 16.0, e: 0.0009954703940636294\n",
      "episode: 90/200, score: 21.0, e: 0.0009954703940636294\n",
      "episode: 91/200, score: 32.0, e: 0.0009954703940636294\n",
      "episode: 92/200, score: 35.0, e: 0.0009954703940636294\n",
      "episode: 93/200, score: 63.0, e: 0.0009954703940636294\n",
      "episode: 94/200, score: 43.0, e: 0.0009954703940636294\n",
      "episode: 95/200, score: 45.0, e: 0.0009954703940636294\n",
      "episode: 96/200, score: 59.0, e: 0.0009954703940636294\n",
      "episode: 97/200, score: 93.0, e: 0.0009954703940636294\n",
      "episode: 98/200, score: 58.0, e: 0.0009954703940636294\n",
      "episode: 99/200, score: 86.0, e: 0.0009954703940636294\n",
      "episode: 100/200, score: 92.0, e: 0.0009954703940636294\n",
      "episode: 101/200, score: 93.0, e: 0.0009954703940636294\n",
      "episode: 102/200, score: 66.0, e: 0.0009954703940636294\n",
      "episode: 103/200, score: 91.0, e: 0.0009954703940636294\n",
      "episode: 104/200, score: 99.0, e: 0.0009954703940636294\n",
      "episode: 105/200, score: 116.0, e: 0.0009954703940636294\n",
      "episode: 106/200, score: 116.0, e: 0.0009954703940636294\n",
      "episode: 107/200, score: 95.0, e: 0.0009954703940636294\n",
      "episode: 108/200, score: 86.0, e: 0.0009954703940636294\n",
      "episode: 109/200, score: 76.0, e: 0.0009954703940636294\n",
      "episode: 110/200, score: 66.0, e: 0.0009954703940636294\n",
      "episode: 111/200, score: 90.0, e: 0.0009954703940636294\n",
      "episode: 112/200, score: 142.0, e: 0.0009954703940636294\n",
      "episode: 113/200, score: 62.0, e: 0.0009954703940636294\n",
      "episode: 114/200, score: 83.0, e: 0.0009954703940636294\n",
      "episode: 115/200, score: 96.0, e: 0.0009954703940636294\n",
      "episode: 116/200, score: 56.0, e: 0.0009954703940636294\n",
      "episode: 117/200, score: 121.0, e: 0.0009954703940636294\n",
      "episode: 118/200, score: 79.0, e: 0.0009954703940636294\n",
      "episode: 119/200, score: 72.0, e: 0.0009954703940636294\n",
      "episode: 120/200, score: 74.0, e: 0.0009954703940636294\n",
      "episode: 121/200, score: 121.0, e: 0.0009954703940636294\n",
      "episode: 122/200, score: 141.0, e: 0.0009954703940636294\n",
      "episode: 123/200, score: 180.0, e: 0.0009954703940636294\n",
      "episode: 124/200, score: 217.0, e: 0.0009954703940636294\n",
      "episode: 125/200, score: 78.0, e: 0.0009954703940636294\n",
      "episode: 126/200, score: 171.0, e: 0.0009954703940636294\n",
      "episode: 127/200, score: 162.0, e: 0.0009954703940636294\n",
      "episode: 128/200, score: 250.0, e: 0.0009954703940636294\n",
      "episode: 129/200, score: 161.0, e: 0.0009954703940636294\n",
      "episode: 130/200, score: 178.0, e: 0.0009954703940636294\n",
      "episode: 131/200, score: 166.0, e: 0.0009954703940636294\n",
      "episode: 132/200, score: 124.0, e: 0.0009954703940636294\n",
      "episode: 133/200, score: 250.0, e: 0.0009954703940636294\n",
      "episode: 134/200, score: 170.0, e: 0.0009954703940636294\n",
      "episode: 135/200, score: 170.0, e: 0.0009954703940636294\n",
      "episode: 136/200, score: 250.0, e: 0.0009954703940636294\n",
      "episode: 137/200, score: 215.0, e: 0.0009954703940636294\n"
     ]
    }
   ],
   "source": [
    "#Training\n",
    "rewards = [] #Store rewards for graphing\n",
    "epsilons = [] # Store the Explore/Exploit\n",
    "nb_test_episodes = 0\n",
    "for e in range(nb_episodes):\n",
    "    state = envCartPole.reset()\n",
    "    state = np.reshape(state, [1, nS]) # Resize to store in memory to pass to .predict\n",
    "    tot_rewards = 0\n",
    "    for time in range(limit_time): \n",
    "        action = dqn.action(state)\n",
    "        nstate, reward, done, _ = envCartPole.step(action)\n",
    "        nstate = np.reshape(nstate, [1, nS])\n",
    "        tot_rewards += reward\n",
    "        dqn.store(state, action, reward, nstate, done) # Resize to store in memory to pass to .predict\n",
    "        state = nstate\n",
    "        #done: CartPole fell. \n",
    "        #time == limit_time - 1: CartPole stayed upright\n",
    "        if done or time == limit_time - 1:\n",
    "            rewards.append(tot_rewards)\n",
    "            epsilons.append(dqn.epsilon)\n",
    "            print(\"episode: {}/{}, score: {}, e: {}\"\n",
    "                  .format(e, nb_episodes, tot_rewards, dqn.epsilon))\n",
    "            break\n",
    "        #Experience Replay\n",
    "        if len(dqn.memory) > batch_size:\n",
    "            dqn.experience_replay(batch_size)\n",
    "    #Test if success\n",
    "    if len(rewards) > consecutive_wins and np.average(rewards[-consecutive_wins:]) > reward_threshold:\n",
    "        #Set the rest of the nb_episodes for testing\n",
    "        nb_test_episodes = nb_episodes - e\n",
    "        nb_end_training = e\n",
    "        break"
   ]
  },
  {
   "cell_type": "code",
   "execution_count": null,
   "metadata": {
    "id": "gfRaR792h9Mz"
   },
   "outputs": [],
   "source": [
    "#dqn.model.save('dqn.h5')\n",
    "#Once trained...\n",
    "dqn.model = load_model('dqn.h5')"
   ]
  },
  {
   "cell_type": "code",
   "execution_count": null,
   "metadata": {
    "colab": {
     "base_uri": "https://localhost:8080/",
     "height": 628
    },
    "executionInfo": {
     "elapsed": 13709,
     "status": "error",
     "timestamp": 1622466685212,
     "user": {
      "displayName": "Vincent Barra",
      "photoUrl": "https://lh3.googleusercontent.com/a-/AOh14GjvBKqsHAt-nVr22nq-swGVY8ilMH6_0eiRzJxRMw=s64",
      "userId": "03796775931529965958"
     },
     "user_tz": -120
    },
    "id": "Ix_mxhd0mf68",
    "outputId": "c654f34b-0d8f-45f8-f089-a5cf32f02dda"
   },
   "outputs": [
    {
     "ename": "KeyboardInterrupt",
     "evalue": "ignored",
     "output_type": "error",
     "traceback": [
      "\u001b[0;31m---------------------------------------------------------------------------\u001b[0m",
      "\u001b[0;31mKeyboardInterrupt\u001b[0m                         Traceback (most recent call last)",
      "\u001b[0;32m<ipython-input-12-5659f15c4ec0>\u001b[0m in \u001b[0;36m<module>\u001b[0;34m()\u001b[0m\n\u001b[1;32m     22\u001b[0m \u001b[0;34m\u001b[0m\u001b[0m\n\u001b[1;32m     23\u001b[0m \u001b[0;34m\u001b[0m\u001b[0m\n\u001b[0;32m---> 24\u001b[0;31m         \u001b[0mdisplay\u001b[0m\u001b[0;34m.\u001b[0m\u001b[0mdisplay\u001b[0m\u001b[0;34m(\u001b[0m\u001b[0mplt\u001b[0m\u001b[0;34m.\u001b[0m\u001b[0mgcf\u001b[0m\u001b[0;34m(\u001b[0m\u001b[0;34m)\u001b[0m\u001b[0;34m)\u001b[0m\u001b[0;34m\u001b[0m\u001b[0;34m\u001b[0m\u001b[0m\n\u001b[0m\u001b[1;32m     25\u001b[0m \u001b[0;34m\u001b[0m\u001b[0m\n\u001b[1;32m     26\u001b[0m         \u001b[0maction\u001b[0m \u001b[0;34m=\u001b[0m \u001b[0mdqn\u001b[0m\u001b[0;34m.\u001b[0m\u001b[0mtest_action\u001b[0m\u001b[0;34m(\u001b[0m\u001b[0mstate\u001b[0m\u001b[0;34m)\u001b[0m\u001b[0;34m\u001b[0m\u001b[0;34m\u001b[0m\u001b[0m\n",
      "\u001b[0;32m/usr/local/lib/python3.7/dist-packages/IPython/core/display.py\u001b[0m in \u001b[0;36mdisplay\u001b[0;34m(*objs, **kwargs)\u001b[0m\n\u001b[1;32m    304\u001b[0m             \u001b[0mpublish_display_data\u001b[0m\u001b[0;34m(\u001b[0m\u001b[0mdata\u001b[0m\u001b[0;34m=\u001b[0m\u001b[0mobj\u001b[0m\u001b[0;34m,\u001b[0m \u001b[0mmetadata\u001b[0m\u001b[0;34m=\u001b[0m\u001b[0mmetadata\u001b[0m\u001b[0;34m,\u001b[0m \u001b[0;34m**\u001b[0m\u001b[0mkwargs\u001b[0m\u001b[0;34m)\u001b[0m\u001b[0;34m\u001b[0m\u001b[0;34m\u001b[0m\u001b[0m\n\u001b[1;32m    305\u001b[0m         \u001b[0;32melse\u001b[0m\u001b[0;34m:\u001b[0m\u001b[0;34m\u001b[0m\u001b[0;34m\u001b[0m\u001b[0m\n\u001b[0;32m--> 306\u001b[0;31m             \u001b[0mformat_dict\u001b[0m\u001b[0;34m,\u001b[0m \u001b[0mmd_dict\u001b[0m \u001b[0;34m=\u001b[0m \u001b[0mformat\u001b[0m\u001b[0;34m(\u001b[0m\u001b[0mobj\u001b[0m\u001b[0;34m,\u001b[0m \u001b[0minclude\u001b[0m\u001b[0;34m=\u001b[0m\u001b[0minclude\u001b[0m\u001b[0;34m,\u001b[0m \u001b[0mexclude\u001b[0m\u001b[0;34m=\u001b[0m\u001b[0mexclude\u001b[0m\u001b[0;34m)\u001b[0m\u001b[0;34m\u001b[0m\u001b[0;34m\u001b[0m\u001b[0m\n\u001b[0m\u001b[1;32m    307\u001b[0m             \u001b[0;32mif\u001b[0m \u001b[0;32mnot\u001b[0m \u001b[0mformat_dict\u001b[0m\u001b[0;34m:\u001b[0m\u001b[0;34m\u001b[0m\u001b[0;34m\u001b[0m\u001b[0m\n\u001b[1;32m    308\u001b[0m                 \u001b[0;31m# nothing to display (e.g. _ipython_display_ took over)\u001b[0m\u001b[0;34m\u001b[0m\u001b[0;34m\u001b[0m\u001b[0;34m\u001b[0m\u001b[0m\n",
      "\u001b[0;32m/usr/local/lib/python3.7/dist-packages/IPython/core/formatters.py\u001b[0m in \u001b[0;36mformat\u001b[0;34m(self, obj, include, exclude)\u001b[0m\n\u001b[1;32m    171\u001b[0m             \u001b[0mmd\u001b[0m \u001b[0;34m=\u001b[0m \u001b[0;32mNone\u001b[0m\u001b[0;34m\u001b[0m\u001b[0;34m\u001b[0m\u001b[0m\n\u001b[1;32m    172\u001b[0m             \u001b[0;32mtry\u001b[0m\u001b[0;34m:\u001b[0m\u001b[0;34m\u001b[0m\u001b[0;34m\u001b[0m\u001b[0m\n\u001b[0;32m--> 173\u001b[0;31m                 \u001b[0mdata\u001b[0m \u001b[0;34m=\u001b[0m \u001b[0mformatter\u001b[0m\u001b[0;34m(\u001b[0m\u001b[0mobj\u001b[0m\u001b[0;34m)\u001b[0m\u001b[0;34m\u001b[0m\u001b[0;34m\u001b[0m\u001b[0m\n\u001b[0m\u001b[1;32m    174\u001b[0m             \u001b[0;32mexcept\u001b[0m\u001b[0;34m:\u001b[0m\u001b[0;34m\u001b[0m\u001b[0;34m\u001b[0m\u001b[0m\n\u001b[1;32m    175\u001b[0m                 \u001b[0;31m# FIXME: log the exception\u001b[0m\u001b[0;34m\u001b[0m\u001b[0;34m\u001b[0m\u001b[0;34m\u001b[0m\u001b[0m\n",
      "\u001b[0;32m<decorator-gen-2>\u001b[0m in \u001b[0;36m__call__\u001b[0;34m(self, obj)\u001b[0m\n",
      "\u001b[0;32m/usr/local/lib/python3.7/dist-packages/IPython/core/formatters.py\u001b[0m in \u001b[0;36mcatch_format_error\u001b[0;34m(method, self, *args, **kwargs)\u001b[0m\n\u001b[1;32m    215\u001b[0m     \u001b[0;34m\"\"\"show traceback on failed format call\"\"\"\u001b[0m\u001b[0;34m\u001b[0m\u001b[0;34m\u001b[0m\u001b[0m\n\u001b[1;32m    216\u001b[0m     \u001b[0;32mtry\u001b[0m\u001b[0;34m:\u001b[0m\u001b[0;34m\u001b[0m\u001b[0;34m\u001b[0m\u001b[0m\n\u001b[0;32m--> 217\u001b[0;31m         \u001b[0mr\u001b[0m \u001b[0;34m=\u001b[0m \u001b[0mmethod\u001b[0m\u001b[0;34m(\u001b[0m\u001b[0mself\u001b[0m\u001b[0;34m,\u001b[0m \u001b[0;34m*\u001b[0m\u001b[0margs\u001b[0m\u001b[0;34m,\u001b[0m \u001b[0;34m**\u001b[0m\u001b[0mkwargs\u001b[0m\u001b[0;34m)\u001b[0m\u001b[0;34m\u001b[0m\u001b[0;34m\u001b[0m\u001b[0m\n\u001b[0m\u001b[1;32m    218\u001b[0m     \u001b[0;32mexcept\u001b[0m \u001b[0mNotImplementedError\u001b[0m\u001b[0;34m:\u001b[0m\u001b[0;34m\u001b[0m\u001b[0;34m\u001b[0m\u001b[0m\n\u001b[1;32m    219\u001b[0m         \u001b[0;31m# don't warn on NotImplementedErrors\u001b[0m\u001b[0;34m\u001b[0m\u001b[0;34m\u001b[0m\u001b[0;34m\u001b[0m\u001b[0m\n",
      "\u001b[0;32m/usr/local/lib/python3.7/dist-packages/IPython/core/formatters.py\u001b[0m in \u001b[0;36m__call__\u001b[0;34m(self, obj)\u001b[0m\n\u001b[1;32m    332\u001b[0m                 \u001b[0;32mpass\u001b[0m\u001b[0;34m\u001b[0m\u001b[0;34m\u001b[0m\u001b[0m\n\u001b[1;32m    333\u001b[0m             \u001b[0;32melse\u001b[0m\u001b[0;34m:\u001b[0m\u001b[0;34m\u001b[0m\u001b[0;34m\u001b[0m\u001b[0m\n\u001b[0;32m--> 334\u001b[0;31m                 \u001b[0;32mreturn\u001b[0m \u001b[0mprinter\u001b[0m\u001b[0;34m(\u001b[0m\u001b[0mobj\u001b[0m\u001b[0;34m)\u001b[0m\u001b[0;34m\u001b[0m\u001b[0;34m\u001b[0m\u001b[0m\n\u001b[0m\u001b[1;32m    335\u001b[0m             \u001b[0;31m# Finally look for special method names\u001b[0m\u001b[0;34m\u001b[0m\u001b[0;34m\u001b[0m\u001b[0;34m\u001b[0m\u001b[0m\n\u001b[1;32m    336\u001b[0m             \u001b[0mmethod\u001b[0m \u001b[0;34m=\u001b[0m \u001b[0mget_real_method\u001b[0m\u001b[0;34m(\u001b[0m\u001b[0mobj\u001b[0m\u001b[0;34m,\u001b[0m \u001b[0mself\u001b[0m\u001b[0;34m.\u001b[0m\u001b[0mprint_method\u001b[0m\u001b[0;34m)\u001b[0m\u001b[0;34m\u001b[0m\u001b[0;34m\u001b[0m\u001b[0m\n",
      "\u001b[0;32m/usr/local/lib/python3.7/dist-packages/IPython/core/pylabtools.py\u001b[0m in \u001b[0;36m<lambda>\u001b[0;34m(fig)\u001b[0m\n\u001b[1;32m    239\u001b[0m \u001b[0;34m\u001b[0m\u001b[0m\n\u001b[1;32m    240\u001b[0m     \u001b[0;32mif\u001b[0m \u001b[0;34m'png'\u001b[0m \u001b[0;32min\u001b[0m \u001b[0mformats\u001b[0m\u001b[0;34m:\u001b[0m\u001b[0;34m\u001b[0m\u001b[0;34m\u001b[0m\u001b[0m\n\u001b[0;32m--> 241\u001b[0;31m         \u001b[0mpng_formatter\u001b[0m\u001b[0;34m.\u001b[0m\u001b[0mfor_type\u001b[0m\u001b[0;34m(\u001b[0m\u001b[0mFigure\u001b[0m\u001b[0;34m,\u001b[0m \u001b[0;32mlambda\u001b[0m \u001b[0mfig\u001b[0m\u001b[0;34m:\u001b[0m \u001b[0mprint_figure\u001b[0m\u001b[0;34m(\u001b[0m\u001b[0mfig\u001b[0m\u001b[0;34m,\u001b[0m \u001b[0;34m'png'\u001b[0m\u001b[0;34m,\u001b[0m \u001b[0;34m**\u001b[0m\u001b[0mkwargs\u001b[0m\u001b[0;34m)\u001b[0m\u001b[0;34m)\u001b[0m\u001b[0;34m\u001b[0m\u001b[0;34m\u001b[0m\u001b[0m\n\u001b[0m\u001b[1;32m    242\u001b[0m     \u001b[0;32mif\u001b[0m \u001b[0;34m'retina'\u001b[0m \u001b[0;32min\u001b[0m \u001b[0mformats\u001b[0m \u001b[0;32mor\u001b[0m \u001b[0;34m'png2x'\u001b[0m \u001b[0;32min\u001b[0m \u001b[0mformats\u001b[0m\u001b[0;34m:\u001b[0m\u001b[0;34m\u001b[0m\u001b[0;34m\u001b[0m\u001b[0m\n\u001b[1;32m    243\u001b[0m         \u001b[0mpng_formatter\u001b[0m\u001b[0;34m.\u001b[0m\u001b[0mfor_type\u001b[0m\u001b[0;34m(\u001b[0m\u001b[0mFigure\u001b[0m\u001b[0;34m,\u001b[0m \u001b[0;32mlambda\u001b[0m \u001b[0mfig\u001b[0m\u001b[0;34m:\u001b[0m \u001b[0mretina_figure\u001b[0m\u001b[0;34m(\u001b[0m\u001b[0mfig\u001b[0m\u001b[0;34m,\u001b[0m \u001b[0;34m**\u001b[0m\u001b[0mkwargs\u001b[0m\u001b[0;34m)\u001b[0m\u001b[0;34m)\u001b[0m\u001b[0;34m\u001b[0m\u001b[0;34m\u001b[0m\u001b[0m\n",
      "\u001b[0;32m/usr/local/lib/python3.7/dist-packages/IPython/core/pylabtools.py\u001b[0m in \u001b[0;36mprint_figure\u001b[0;34m(fig, fmt, bbox_inches, **kwargs)\u001b[0m\n\u001b[1;32m    123\u001b[0m \u001b[0;34m\u001b[0m\u001b[0m\n\u001b[1;32m    124\u001b[0m     \u001b[0mbytes_io\u001b[0m \u001b[0;34m=\u001b[0m \u001b[0mBytesIO\u001b[0m\u001b[0;34m(\u001b[0m\u001b[0;34m)\u001b[0m\u001b[0;34m\u001b[0m\u001b[0;34m\u001b[0m\u001b[0m\n\u001b[0;32m--> 125\u001b[0;31m     \u001b[0mfig\u001b[0m\u001b[0;34m.\u001b[0m\u001b[0mcanvas\u001b[0m\u001b[0;34m.\u001b[0m\u001b[0mprint_figure\u001b[0m\u001b[0;34m(\u001b[0m\u001b[0mbytes_io\u001b[0m\u001b[0;34m,\u001b[0m \u001b[0;34m**\u001b[0m\u001b[0mkw\u001b[0m\u001b[0;34m)\u001b[0m\u001b[0;34m\u001b[0m\u001b[0;34m\u001b[0m\u001b[0m\n\u001b[0m\u001b[1;32m    126\u001b[0m     \u001b[0mdata\u001b[0m \u001b[0;34m=\u001b[0m \u001b[0mbytes_io\u001b[0m\u001b[0;34m.\u001b[0m\u001b[0mgetvalue\u001b[0m\u001b[0;34m(\u001b[0m\u001b[0;34m)\u001b[0m\u001b[0;34m\u001b[0m\u001b[0;34m\u001b[0m\u001b[0m\n\u001b[1;32m    127\u001b[0m     \u001b[0;32mif\u001b[0m \u001b[0mfmt\u001b[0m \u001b[0;34m==\u001b[0m \u001b[0;34m'svg'\u001b[0m\u001b[0;34m:\u001b[0m\u001b[0;34m\u001b[0m\u001b[0;34m\u001b[0m\u001b[0m\n",
      "\u001b[0;32m/usr/local/lib/python3.7/dist-packages/matplotlib/backend_bases.py\u001b[0m in \u001b[0;36mprint_figure\u001b[0;34m(self, filename, dpi, facecolor, edgecolor, orientation, format, bbox_inches, **kwargs)\u001b[0m\n\u001b[1;32m   2124\u001b[0m                     \u001b[0morientation\u001b[0m\u001b[0;34m=\u001b[0m\u001b[0morientation\u001b[0m\u001b[0;34m,\u001b[0m\u001b[0;34m\u001b[0m\u001b[0;34m\u001b[0m\u001b[0m\n\u001b[1;32m   2125\u001b[0m                     \u001b[0mbbox_inches_restore\u001b[0m\u001b[0;34m=\u001b[0m\u001b[0m_bbox_inches_restore\u001b[0m\u001b[0;34m,\u001b[0m\u001b[0;34m\u001b[0m\u001b[0;34m\u001b[0m\u001b[0m\n\u001b[0;32m-> 2126\u001b[0;31m                     **kwargs)\n\u001b[0m\u001b[1;32m   2127\u001b[0m             \u001b[0;32mfinally\u001b[0m\u001b[0;34m:\u001b[0m\u001b[0;34m\u001b[0m\u001b[0;34m\u001b[0m\u001b[0m\n\u001b[1;32m   2128\u001b[0m                 \u001b[0;32mif\u001b[0m \u001b[0mbbox_inches\u001b[0m \u001b[0;32mand\u001b[0m \u001b[0mrestore_bbox\u001b[0m\u001b[0;34m:\u001b[0m\u001b[0;34m\u001b[0m\u001b[0;34m\u001b[0m\u001b[0m\n",
      "\u001b[0;32m/usr/local/lib/python3.7/dist-packages/matplotlib/backends/backend_agg.py\u001b[0m in \u001b[0;36mprint_png\u001b[0;34m(self, filename_or_obj, metadata, pil_kwargs, *args, **kwargs)\u001b[0m\n\u001b[1;32m    535\u001b[0m             \u001b[0;32mwith\u001b[0m \u001b[0mcbook\u001b[0m\u001b[0;34m.\u001b[0m\u001b[0mopen_file_cm\u001b[0m\u001b[0;34m(\u001b[0m\u001b[0mfilename_or_obj\u001b[0m\u001b[0;34m,\u001b[0m \u001b[0;34m\"wb\"\u001b[0m\u001b[0;34m)\u001b[0m \u001b[0;32mas\u001b[0m \u001b[0mfh\u001b[0m\u001b[0;34m:\u001b[0m\u001b[0;34m\u001b[0m\u001b[0;34m\u001b[0m\u001b[0m\n\u001b[1;32m    536\u001b[0m                 _png.write_png(renderer._renderer, fh, self.figure.dpi,\n\u001b[0;32m--> 537\u001b[0;31m                                metadata={**default_metadata, **metadata})\n\u001b[0m\u001b[1;32m    538\u001b[0m \u001b[0;34m\u001b[0m\u001b[0m\n\u001b[1;32m    539\u001b[0m     \u001b[0;32mdef\u001b[0m \u001b[0mprint_to_buffer\u001b[0m\u001b[0;34m(\u001b[0m\u001b[0mself\u001b[0m\u001b[0;34m)\u001b[0m\u001b[0;34m:\u001b[0m\u001b[0;34m\u001b[0m\u001b[0;34m\u001b[0m\u001b[0m\n",
      "\u001b[0;31mKeyboardInterrupt\u001b[0m: "
     ]
    },
    {
     "data": {
      "image/png": "[encoded data removed]",
      "text/plain": [
       "<Figure size 432x288 with 1 Axes>"
      ]
     },
     "metadata": {
      "needs_background": "light",
      "tags": []
     },
     "output_type": "display_data"
    }
   ],
   "source": [
    "from PIL import Image\n",
    "#Test the agent that was trained\n",
    "env_vis=[]\n",
    "nb_test_episodes = 10\n",
    "from gym.wrappers import Monitor\n",
    "\n",
    "\n",
    "for e_test in range(nb_test_episodes):\n",
    " \n",
    "    state = envCartPole.reset()\n",
    "    img = plt.imshow(envCartPole.render('rgb_array'))\n",
    "\n",
    "\n",
    "    state = np.reshape(state, [1,nS  ])\n",
    "    tot_rewards = 0\n",
    "    for t_test in range(210):\n",
    "        display.clear_output(wait=True)\n",
    "        img.set_data(envCartPole.render('rgb_array'))\n",
    "        plt.axis('off')\n",
    "        #im = Image.fromarray(envCartPole.render('rgb_array'))\n",
    "        #im.save('imag_{:04d}_{:04d}.png'.format(e_test,t_test))\n",
    "\n",
    "       \n",
    "        display.display(plt.gcf())\n",
    "        \n",
    "        action = dqn.test_action(state)\n",
    "        nstate, reward, done, _ = envCartPole.step(action)\n",
    "        nstate = np.reshape( nstate, [1, nS])\n",
    "        tot_rewards += reward\n",
    "        state = nstate\n",
    "        #done: CartPole fell. \n",
    "        #t_test == limit_time - 1 : CartPole stayed upright\n",
    "        if done or t_test == limit_time - 1: \n",
    "            rewards.append(tot_rewards)\n",
    "            epsilons.append(0) #We are doing full exploit\n",
    "            print(\"episode: {}/{}, score: {}, e: {}\"\n",
    "                  .format(e_test, nb_test_episodes, tot_rewards, 0))\n",
    "            break;\n",
    "        if d:\n",
    "          envCartPole.reset()\n",
    "\n",
    "        \n",
    "    envCartPole.close()"
   ]
  },
  {
   "cell_type": "code",
   "execution_count": null,
   "metadata": {
    "id": "-BGwiglA_DFV"
   },
   "outputs": [],
   "source": [
    "anim_file = 'cartPole.gif'\n",
    "import imageio\n",
    "import glob\n",
    "\n",
    "\n",
    "with imageio.get_writer(anim_file, mode='I') as writer:\n",
    "  filenames = glob.glob('imag*.png')\n",
    "  filenames = sorted(filenames)\n",
    "  for filename in filenames:\n",
    "    image = imageio.imread(filename)\n",
    "    writer.append_data(image)\n",
    "  image = imageio.imread(filename)\n",
    "  writer.append_data(image)"
   ]
  },
  {
   "cell_type": "code",
   "execution_count": null,
   "metadata": {
    "colab": {
     "base_uri": "https://localhost:8080/",
     "height": 452,
     "output_embedded_package_id": "1S3IyDIskqA0BXJZFKsp9iAV3FbpJGiEv"
    },
    "executionInfo": {
     "elapsed": 27908,
     "status": "ok",
     "timestamp": 1622466064369,
     "user": {
      "displayName": "Vincent Barra",
      "photoUrl": "https://lh3.googleusercontent.com/a-/AOh14GjvBKqsHAt-nVr22nq-swGVY8ilMH6_0eiRzJxRMw=s64",
      "userId": "03796775931529965958"
     },
     "user_tz": -120
    },
    "id": "pFh_YyX1_L4q",
    "outputId": "396eb313-5873-4584-9941-0f39dac99cb4"
   },
   "outputs": [
    {
     "data": {
      "text/plain": [
       "Output hidden; open in https://colab.research.google.com to view."
      ]
     },
     "metadata": {},
     "output_type": "display_data"
    }
   ],
   "source": [
    "# to be done 1 time\n",
    "!pip install -q git+https://github.com/tensorflow/docs\n",
    "\n",
    "import tensorflow_docs.vis.embed as embed\n",
    "embed.embed_file(anim_file)"
   ]
  },
  {
   "cell_type": "markdown",
   "metadata": {
    "id": "wcoWz8S9mf68"
   },
   "source": [
    "**Results**  \n",
    "Here is a graph of the results. If everything was done correctly you should see the rewards over the red line.  \n",
    "\n",
    "Blue: This is the reward for each episode  \n",
    "Green: This is the value of epsilon scaled by 200  \n",
    "Yellow: tests started."
   ]
  },
  {
   "cell_type": "code",
   "execution_count": null,
   "metadata": {
    "colab": {
     "base_uri": "https://localhost:8080/",
     "height": 296
    },
    "executionInfo": {
     "elapsed": 718,
     "status": "ok",
     "timestamp": 1622466196006,
     "user": {
      "displayName": "Vincent Barra",
      "photoUrl": "https://lh3.googleusercontent.com/a-/AOh14GjvBKqsHAt-nVr22nq-swGVY8ilMH6_0eiRzJxRMw=s64",
      "userId": "03796775931529965958"
     },
     "user_tz": -120
    },
    "id": "srYcAD3Kmf68",
    "outputId": "bdd52b51-2d0c-434f-b286-b304a3c44a60"
   },
   "outputs": [
    {
     "data": {
      "image/png": "[encoded data removed]",
      "text/plain": [
       "<Figure size 864x288 with 1 Axes>"
      ]
     },
     "metadata": {
      "needs_background": "light",
      "tags": []
     },
     "output_type": "display_data"
    }
   ],
   "source": [
    "rolling_average = np.convolve(rewards, np.ones(100)/100)\n",
    "plt.figure(figsize=(12,4))\n",
    "plt.plot(rewards,label='reward')\n",
    "plt.axhline(y=reward_threshold, color='r', linestyle='-',label='reward_threshold') \n",
    "eps_graph = [200*x for x in epsilons]\n",
    "plt.plot(eps_graph, color='g', linestyle='-',label='200*epsilon')\n",
    "#Plot the line where TESTING begins\n",
    "plt.axvline(x=nb_end_training, color='y', linestyle='-')\n",
    "plt.xlim( (0,nb_episodes) )\n",
    "plt.xlabel('episodes')\n",
    "plt.ylim( (0,220) )\n",
    "plt.ylabel('reward')\n",
    "plt.legend(loc='best')\n",
    "plt.tight_layout()\n",
    "\n",
    "envCartPole.close()"
   ]
  },
  {
   "cell_type": "markdown",
   "metadata": {
    "id": "4Jo0-7Ebmf69"
   },
   "source": [
    "**Changes**  \n",
    "*hyper parameters*: You can alter alpha, gamma, batch size, and episode length to see what differences the algorithm returns.  \n",
    "*Training End*: You can also change the line where I only check the last 5 runs before switching to testing mode (if len(rewards) > 5 and np.average(rewards[-5:]) > 195:) as that doesn't prove it was solved. The reason I did this was because I wanted to limit the amount of runs I made.  "
   ]
  }
 ],
 "metadata": {
  "accelerator": "GPU",
  "colab": {
   "collapsed_sections": [],
   "name": "PW11_DQN.ipynb",
   "provenance": [
    {
     "timestamp": 1622048270472
    }
   ],
   "toc_visible": true
  },
  "kernelspec": {
   "display_name": "Python 3",
   "language": "python",
   "name": "python3"
  },
  "language_info": {
   "codemirror_mode": {
    "name": "ipython",
    "version": 3
   },
   "file_extension": ".py",
   "mimetype": "text/x-python",
   "name": "python",
   "nbconvert_exporter": "python",
   "pygments_lexer": "ipython3",
   "version": "3.9.5"
  }
 },
 "nbformat": 4,
 "nbformat_minor": 4
}
